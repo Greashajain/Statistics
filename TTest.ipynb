{
  "nbformat": 4,
  "nbformat_minor": 0,
  "metadata": {
    "colab": {
      "provenance": [],
      "authorship_tag": "ABX9TyP+GQjUCY/glsQMRFbZInZE",
      "include_colab_link": true
    },
    "kernelspec": {
      "name": "python3",
      "display_name": "Python 3"
    },
    "language_info": {
      "name": "python"
    }
  },
  "cells": [
    {
      "cell_type": "markdown",
      "metadata": {
        "id": "view-in-github",
        "colab_type": "text"
      },
      "source": [
        "<a href=\"https://colab.research.google.com/github/Greashajain/Statistics/blob/main/TTest.ipynb\" target=\"_parent\"><img src=\"https://colab.research.google.com/assets/colab-badge.svg\" alt=\"Open In Colab\"/></a>"
      ]
    },
    {
      "cell_type": "code",
      "execution_count": 1,
      "metadata": {
        "id": "LkwMQw5pouHr"
      },
      "outputs": [],
      "source": [
        "import numpy as np\n",
        "from scipy import stats"
      ]
    },
    {
      "cell_type": "code",
      "source": [
        "sample = [172,174,168,169,171,173,175,170,169,172]\n",
        "samp_mean = np.mean(sample)\n",
        "sample_std = np.std(sample,ddof=1)\n",
        "n=len(sample)\n",
        "mean_population=170"
      ],
      "metadata": {
        "id": "-qGuB4_Lquyr"
      },
      "execution_count": 2,
      "outputs": []
    },
    {
      "cell_type": "code",
      "source": [
        "t_stats= (samp_mean-mean_population)/(sample_std/np.sqrt(n))\n",
        "t_stats"
      ],
      "metadata": {
        "colab": {
          "base_uri": "https://localhost:8080/"
        },
        "id": "0zFlkrL4rPeQ",
        "outputId": "ffb43d4c-d5c8-4ea5-8b6e-c8c3ffdc579c"
      },
      "execution_count": 3,
      "outputs": [
        {
          "output_type": "execute_result",
          "data": {
            "text/plain": [
              "np.float64(1.7782469350914734)"
            ]
          },
          "metadata": {},
          "execution_count": 3
        }
      ]
    },
    {
      "cell_type": "code",
      "source": [
        "p_value=2*(1-stats.t.cdf(abs(t_stats),df=n-1))\n",
        "alpha = 0.05"
      ],
      "metadata": {
        "id": "RMHNKDUArWho"
      },
      "execution_count": 4,
      "outputs": []
    },
    {
      "cell_type": "code",
      "source": [
        "if p_value<alpha:\n",
        "    print(\"Reject the null hypothesis\")\n",
        "else:\n",
        "    print(\"Accept the null hypothesis\")"
      ],
      "metadata": {
        "colab": {
          "base_uri": "https://localhost:8080/"
        },
        "id": "0R71Hd0_rqCm",
        "outputId": "72d1478e-fedf-48fc-9c71-26ed0a1fd5ac"
      },
      "execution_count": 5,
      "outputs": [
        {
          "output_type": "stream",
          "name": "stdout",
          "text": [
            "Accept the null hypothesis\n"
          ]
        }
      ]
    },
    {
      "cell_type": "code",
      "source": [],
      "metadata": {
        "id": "m2nZWkvYrvL2"
      },
      "execution_count": null,
      "outputs": []
    }
  ]
}