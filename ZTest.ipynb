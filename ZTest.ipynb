{
  "nbformat": 4,
  "nbformat_minor": 0,
  "metadata": {
    "colab": {
      "provenance": [],
      "authorship_tag": "ABX9TyOWWpiOHmWcsRVHX+/EEDcN",
      "include_colab_link": true
    },
    "kernelspec": {
      "name": "python3",
      "display_name": "Python 3"
    },
    "language_info": {
      "name": "python"
    }
  },
  "cells": [
    {
      "cell_type": "markdown",
      "metadata": {
        "id": "view-in-github",
        "colab_type": "text"
      },
      "source": [
        "<a href=\"https://colab.research.google.com/github/Greashajain/Statistics/blob/main/ZTest.ipynb\" target=\"_parent\"><img src=\"https://colab.research.google.com/assets/colab-badge.svg\" alt=\"Open In Colab\"/></a>"
      ]
    },
    {
      "cell_type": "code",
      "execution_count": 1,
      "metadata": {
        "id": "uHWivqzQmLUi"
      },
      "outputs": [],
      "source": [
        "import numpy as np\n",
        "from scipy.stats import norm"
      ]
    },
    {
      "cell_type": "code",
      "source": [
        "sample = [172,174,168,169,171,173,175,170,169,172]\n",
        "population_mean=170\n",
        "population_standard_deviation=3\n",
        "samp_mean = np.mean(sample)\n",
        "n= len(sample)\n"
      ],
      "metadata": {
        "id": "Td_tkEzQmrBa"
      },
      "execution_count": 2,
      "outputs": []
    },
    {
      "cell_type": "code",
      "source": [
        "z_score = (samp_mean-population_mean)/(population_standard_deviation/np.sqrt(n))\n",
        "z_score"
      ],
      "metadata": {
        "colab": {
          "base_uri": "https://localhost:8080/"
        },
        "id": "WSxi3ETBnNOV",
        "outputId": "db0f3ff5-7583-434e-e669-9eea8e381b42"
      },
      "execution_count": 3,
      "outputs": [
        {
          "output_type": "execute_result",
          "data": {
            "text/plain": [
              "np.float64(1.3703203194063098)"
            ]
          },
          "metadata": {},
          "execution_count": 3
        }
      ]
    },
    {
      "cell_type": "code",
      "source": [
        "p_value = 2*(1-norm.cdf(abs(z_score)))"
      ],
      "metadata": {
        "id": "EzX9-K_JnVXe"
      },
      "execution_count": 4,
      "outputs": []
    },
    {
      "cell_type": "code",
      "source": [
        "p_value"
      ],
      "metadata": {
        "colab": {
          "base_uri": "https://localhost:8080/"
        },
        "id": "LEWhoRuznpgI",
        "outputId": "5f94bea8-f8b4-4b1d-eb6a-b2c3a2d7d10e"
      },
      "execution_count": 5,
      "outputs": [
        {
          "output_type": "execute_result",
          "data": {
            "text/plain": [
              "np.float64(0.17058693287143756)"
            ]
          },
          "metadata": {},
          "execution_count": 5
        }
      ]
    },
    {
      "cell_type": "code",
      "source": [
        "alpha= 0.05\n",
        "if p_value<alpha:\n",
        "    print(\"Reject the null hypothesis\")\n",
        "else:\n",
        "    print(\"Accept the null hypothesis\")"
      ],
      "metadata": {
        "colab": {
          "base_uri": "https://localhost:8080/"
        },
        "id": "Qfsm37DFnq2Z",
        "outputId": "e7912fc8-4ae3-4db8-d5a9-6e36eda64c7c"
      },
      "execution_count": 6,
      "outputs": [
        {
          "output_type": "stream",
          "name": "stdout",
          "text": [
            "Accept the null hypothesis\n"
          ]
        }
      ]
    },
    {
      "cell_type": "code",
      "source": [],
      "metadata": {
        "id": "4SqUKYM9n8BF"
      },
      "execution_count": null,
      "outputs": []
    }
  ]
}